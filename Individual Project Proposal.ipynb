{
 "cells": [
  {
   "cell_type": "markdown",
   "id": "e8c9e0cd",
   "metadata": {},
   "source": [
    "Research Question 1: Is there a correlation between the church attendance of Canadians and their levels of anxiety in 2021?\n",
    "\n",
    "Variables: \n",
    "- Predictor (x-variable): CONNECTION_activities_church_p3m\n",
    "    - ordinal categorical variable \n",
    "- Outcome (y-variable): PSYCH_ten_item_personality_inventory_emotional_stability_anxious_1r\n",
    "    - ordinal categorical variable \n",
    "\n",
    "High levels of self-reported anxiety would have a negative affect on personal health and well-being. A negative correlation between church attendance and levels of anxiety would emphasise the importance of social connection and community engagement for individual well-being which aligns with Genwel’s mission. \n",
    "Bar plots will be used to visualise the distribution of both variables. A heatmap with a contingency table will provide a clear visual representation of how frequently certain combinations of ordinal categories occur together. Summary statistics such as median anxiety level for each category of church attendance frequency will be provided. \n",
    "\n",
    "Analysis:\n",
    "\n",
    "Using the data from the 2021 cross-sectional survey, Fisher’s Exact Test will be run with the Monte Carlo Simulation on the contingency table created. A one-tailed test will be conducted to test for a significant negative association between church attendance and anxiety levels. An alpha significance level of 0.05 will be set. Instead of calculating an exact p-value, the Monte Carlo method is used to generate simulated contingency tables under the null hypothesis to approximate the p-value. It will compare the observed frequencies in each category to the expected frequencies if there were no association. The one-tailed p-value will be compared with the predetermined alpha significance level to determine if higher church attendance is associated with significantly lower levels of anxiety. \n",
    "\tIt will be assumed that the observations are independent and data was collected by randomly sampling in order to perform this analysis. \n",
    "\n",
    "Hypotheses/Possible results: \n",
    "\n",
    "- Null Hypothesis (Ho): No association between church attendance and anxiety levels.\n",
    "- Alternative Hypothesis (Ha​): There is a negative association between church attendance and anxiety levels.\n",
    "- Statistically significant negative association: p-value < 0.05: reject the Null Hypothesis, indicating that higher church attendance is significantly associated with lower levels of anxiety\n",
    "- No Significant negative Association: p-value ≥ 0.05, fail to reject the Null Hypothesis, indicating that there is no significant evidence to suggest that higher church attendance is associated with lower levels of anxiety."
   ]
  },
  {
   "cell_type": "markdown",
   "id": "f4ed544e",
   "metadata": {},
   "source": [
    "Research Question 2: Is there a correlation between the church attendance of Canadians and their levels of stress management capability in 2023?\n",
    "\n",
    "Variables: \n",
    "\n",
    "- Predictor (x-variable): CONNECTION_activities_church_p3m\n",
    "    - ordinal categorical variable \n",
    "- Outcome (y-variable): PSYCH_big_five_inventory_relaxed\n",
    "    - ordinal categorical variable \n",
    "\n",
    "Low levels of self-reported stress management capabilities would have a negative affect on personal health and well-being. A positive correlation between church attendance and levels of stress management capability would emphasise the importance of social connection and community engagement for individual well-being which aligns with Genwel’s mission. \n",
    "Bar plots will be used to visualise the distribution of both variables. A heatmap with a contingency table will provide a clear visual representation of how frequently certain combinations of ordinal categories occur together. Summary statistics such as median stress management capability  level for each category of church attendance frequency will be provided. \n",
    "\n",
    "Analysis:\n",
    "\n",
    "Using the data from the 2023 cohort survey, Fisher’s Exact Test will be run with the Monte Carlo Simulation on the contingency table created. A one-tailed test will be conducted to test for a significant positive association between church attendance and stress management capability levels. An alpha significance level of 0.05 will be set. Instead of calculating an exact p-value, the Monte Carlo method is used to generate simulated contingency tables under the null hypothesis to approximate the p-value. It will compare the observed frequencies in each category to the expected frequencies if there were no association. The one-tailed p-value will be compared with the predetermined alpha significance level to determine if higher church attendance is associated with significantly higher levels of stress management capabilities. \n",
    "\tIt will be assumed that the observations are independent and data was collected by randomly sampling in order to perform this analysis. \n",
    "\n",
    "Hypotheses/Possible results:\n",
    "\n",
    "- Null Hypothesis (Ho): No association between church attendance and stress management capability levels.\n",
    "- Alternative Hypothesis (Ha​): There is a postive association between church attendance and stress management capability levels.\n",
    "- Statistically significant positive association: p-value < 0.05: reject the Null Hypothesis, indicating that higher church attendance is significantly associated with higher levels of stress management capabilities\n",
    "- No Significant postive Association: p-value ≥ 0.05, fail to reject the Null Hypothesis, indicating that there is no significant evidence to suggest that higher church attendance is associated with higher levels of stress management capabilities."
   ]
  },
  {
   "cell_type": "markdown",
   "id": "4ff13012",
   "metadata": {},
   "source": [
    "\n",
    "Research Question 3: Is there a correlation between the church attendance of Canadians and the levels of their feeling of general emptiness in 2023?\n",
    "\n",
    "Variables: \n",
    "\n",
    "- Predictor (x-variable): CONNECTION_activities_church_p3m \n",
    "    - ordinal categorical variable \n",
    "- Outcome (y-variable): LONELY_dejong_emotional_social_loneliness_scale_emptiness\n",
    "    - ordinal categorical variable \n",
    "\n",
    "High levels of self-reported general emptiness would have a negative affect on personal health and well-being. A negative correlation between church attendance and levels of anxiety would emphasise the importance of social connection and community engagement for individual well-being which aligns with Genwel’s mission. \n",
    "\tBar plots will be used to visualise the distribution of both variables. A heatmap with a contingency table will provide a clear visual representation of how frequently certain combinations of ordinal categories occur together. Summary statistics such as the median feeling of general emptiness level for each category of church attendance frequency will be provided. \n",
    "\n",
    "Analysis:\n",
    "\n",
    "Using the data from the 2023 cohort survey, Fisher’s Exact Test will be run with the Monte Carlo Simulation on the contingency table created. A one-tailed test will be conducted to test for a significant negative association between church attendance and the feeling of general emptiness levels. An alpha significance level of 0.05 will be set. Instead of calculating an exact p-value, the Monte Carlo method is used to generate simulated contingency tables under the null hypothesis to approximate the p-value. It will compare the observed frequencies in each category to the expected frequencies if there were no association. The one-tailed p-value will be compared with the predetermined alpha significance level to determine if higher church attendance is associated with significantly lower levels of feeling of general emptiness. \n",
    "\tIt will be assumed that the observations are independent and data was collected by randomly sampling in order to perform this analysis. \n",
    "\n",
    "Hypotheses/Possible results:\n",
    "\n",
    "- Null Hypothesis (Ho): No association between church attendance and the levels of the feeling of general emptiness.\n",
    "- Alternative Hypothesis (Ha​): There is a negative association between church attendance and the levels of the feeling of general emptiness.\n",
    "- Statistically significant negative association: p-value < 0.05: reject the Null Hypothesis, indicating that higher church attendance is significantly associated with lower levels of the feeling of general emptiness.\n",
    "- No Significant negative Association: p-value ≥ 0.05, fail to reject the Null Hypothesis, indicating that there is no significant evidence to suggest that higher church attendance is associated with lower levels of the feeling of general emptiness."
   ]
  },
  {
   "cell_type": "code",
   "execution_count": null,
   "id": "d5a68304",
   "metadata": {},
   "outputs": [],
   "source": []
  }
 ],
 "metadata": {
  "kernelspec": {
   "display_name": "Python 3 (ipykernel)",
   "language": "python",
   "name": "python3"
  },
  "language_info": {
   "codemirror_mode": {
    "name": "ipython",
    "version": 3
   },
   "file_extension": ".py",
   "mimetype": "text/x-python",
   "name": "python",
   "nbconvert_exporter": "python",
   "pygments_lexer": "ipython3",
   "version": "3.11.6"
  }
 },
 "nbformat": 4,
 "nbformat_minor": 5
}
